{
  "cells": [
    {
      "cell_type": "markdown",
      "metadata": {
        "id": "G5D4OrvGIBa8"
      },
      "source": [
        "# Startup Success Prediction: Advanced Preprocessing & Modeling\n",
        "\n",
        "This notebook performs comprehensive data preprocessing with feature selection and engineering, followed by SVM and Decision Tree modeling with hyperparameter tuning."
      ]
    },
    {
      "cell_type": "code",
      "execution_count": 1,
      "metadata": {
        "id": "7080ad1a"
      },
      "outputs": [],
      "source": [
        "import pandas as pd\n",
        "import numpy as np\n",
        "import warnings\n",
        "import matplotlib.pyplot as plt\n",
        "import seaborn as sns\n",
        "from sklearn.model_selection import train_test_split, GridSearchCV, cross_val_score\n",
        "from sklearn.preprocessing import StandardScaler, LabelEncoder\n",
        "from sklearn.svm import SVC\n",
        "from sklearn.tree import DecisionTreeClassifier\n",
        "from sklearn.metrics import classification_report, confusion_matrix, accuracy_score, roc_auc_score, roc_curve\n",
        "from sklearn.impute import SimpleImputer\n",
        "from sklearn.feature_selection import SelectKBest, f_classif, VarianceThreshold, RFE\n",
        "from sklearn.ensemble import RandomForestClassifier\n",
        "from sklearn.linear_model import LogisticRegression\n",
        "import warnings\n",
        "\n",
        "sns.set()\n",
        "warnings.filterwarnings('ignore')"
      ]
    },
    {
      "cell_type": "code",
      "execution_count": 2,
      "metadata": {
        "colab": {
          "base_uri": "https://localhost:8080/"
        },
        "id": "pCYO9CJmzyl2",
        "outputId": "3dde6faa-b5e3-4620-a157-1172d5283e20"
      },
      "outputs": [
        {
          "output_type": "stream",
          "name": "stdout",
          "text": [
            "Mounted at /content/drive\n"
          ]
        }
      ],
      "source": [
        "from google.colab import drive\n",
        "drive.mount('/content/drive')"
      ]
    },
    {
      "cell_type": "code",
      "execution_count": 3,
      "metadata": {
        "id": "cce7109f",
        "colab": {
          "base_uri": "https://localhost:8080/"
        },
        "outputId": "50671dbc-dfbd-48fd-a135-a4d72266195a"
      },
      "outputs": [
        {
          "output_type": "stream",
          "name": "stdout",
          "text": [
            "Data loaded with shape: (196553, 44)\n"
          ]
        }
      ],
      "source": [
        "# Load the data\n",
        "# Adjust the path to your actual file location\n",
        "df = pd.read_csv('/content/drive/My Drive/companies.csv')\n",
        "print(f\"Data loaded with shape: {df.shape}\")"
      ]
    },
    {
      "cell_type": "markdown",
      "metadata": {
        "id": "G5D4OrvGIBa9"
      },
      "source": [
        "## 1. Initial Data Cleaning"
      ]
    },
    {
      "cell_type": "code",
      "execution_count": 4,
      "metadata": {
        "id": "1207e29d",
        "colab": {
          "base_uri": "https://localhost:8080/"
        },
        "outputId": "3a618517-0ef8-49b9-e23a-b8a90158320a"
      },
      "outputs": [
        {
          "output_type": "stream",
          "name": "stdout",
          "text": [
            "Shape after dropping redundant columns: (196553, 36)\n"
          ]
        }
      ],
      "source": [
        "# 1.b. Delete redundant columns\n",
        "cols_to_drop = ['id', 'Unnamed: 0.1', 'entity_type', 'entity_id', 'parent_id',\n",
        "                'created_by', 'created_at', 'updated_at']\n",
        "cols_to_drop = [col for col in cols_to_drop if col in df.columns]\n",
        "df = df.drop(columns=cols_to_drop)\n",
        "print(f\"Shape after dropping redundant columns: {df.shape}\")"
      ]
    },
    {
      "cell_type": "code",
      "execution_count": 5,
      "metadata": {
        "id": "3aa976b4",
        "colab": {
          "base_uri": "https://localhost:8080/"
        },
        "outputId": "a6386b7d-0d1a-403b-d0b0-ecbdd35bcf88"
      },
      "outputs": [
        {
          "output_type": "stream",
          "name": "stdout",
          "text": [
            "Shape after dropping granular columns: (196553, 20)\n"
          ]
        }
      ],
      "source": [
        "# 1.a. Delete columns with too much granularity\n",
        "granular_cols = ['region', 'city', 'domain', 'homepage_url', 'twitter_username',\n",
        "                 'logo_url', 'logo_width', 'logo_height', 'short_description',\n",
        "                 'description', 'overview', 'tag_list', 'name', 'normalized_name',\n",
        "                 'permalink', 'invested_companies']\n",
        "granular_cols = [col for col in granular_cols if col in df.columns]\n",
        "df = df.drop(columns=granular_cols)\n",
        "print(f\"Shape after dropping granular columns: {df.shape}\")"
      ]
    },
    {
      "cell_type": "code",
      "execution_count": 6,
      "metadata": {
        "id": "15d433c4",
        "colab": {
          "base_uri": "https://localhost:8080/"
        },
        "outputId": "25307020-58f7-4763-ce9a-91b627dab485"
      },
      "outputs": [
        {
          "output_type": "stream",
          "name": "stdout",
          "text": [
            "Number of duplicates: 86929\n",
            "Shape after removing duplicates: (109624, 20)\n"
          ]
        }
      ],
      "source": [
        "# 1.d. Remove duplicate rows\n",
        "print(f\"Number of duplicates: {df.duplicated().sum()}\")\n",
        "df = df.drop_duplicates()\n",
        "print(f\"Shape after removing duplicates: {df.shape}\")"
      ]
    },
    {
      "cell_type": "code",
      "execution_count": 7,
      "metadata": {
        "id": "f78f5afc",
        "colab": {
          "base_uri": "https://localhost:8080/"
        },
        "outputId": "a51a2360-4290-43f1-dab4-62cf2b53717e"
      },
      "outputs": [
        {
          "output_type": "stream",
          "name": "stdout",
          "text": [
            "Columns with >98% null values: ['ROI']\n",
            "Shape after dropping high null columns: (109624, 19)\n"
          ]
        }
      ],
      "source": [
        "# 1.e. Remove columns with >98% null values\n",
        "null_ratio = df.isnull().mean()\n",
        "cols_to_drop_null = null_ratio[null_ratio > 0.98].index.tolist()\n",
        "print(f\"Columns with >98% null values: {cols_to_drop_null}\")\n",
        "df = df.drop(columns=cols_to_drop_null)\n",
        "print(f\"Shape after dropping high null columns: {df.shape}\")"
      ]
    },
    {
      "cell_type": "markdown",
      "metadata": {
        "id": "G5D4OrvGIBa-"
      },
      "source": [
        "## 2. Handle Missing Values"
      ]
    },
    {
      "cell_type": "code",
      "execution_count": 8,
      "metadata": {
        "id": "5bd917f9",
        "colab": {
          "base_uri": "https://localhost:8080/"
        },
        "outputId": "58574520-33fe-4cb5-f953-b5a3bb3c1238"
      },
      "outputs": [
        {
          "output_type": "stream",
          "name": "stdout",
          "text": [
            "Shape after dropping rows with critical nulls: (63616, 19)\n"
          ]
        }
      ],
      "source": [
        "# 1.a. Delete rows with critical missing values\n",
        "critical_cols = ['status', 'country_code', 'category_code', 'founded_at']\n",
        "critical_cols = [col for col in critical_cols if col in df.columns]\n",
        "df = df.dropna(subset=critical_cols)\n",
        "print(f\"Shape after dropping rows with critical nulls: {df.shape}\")"
      ]
    },
    {
      "cell_type": "code",
      "execution_count": 9,
      "metadata": {
        "id": "e3f5b897",
        "colab": {
          "base_uri": "https://localhost:8080/"
        },
        "outputId": "8480d2db-d342-4fe4-adb8-e73ac7e7444f"
      },
      "outputs": [
        {
          "output_type": "stream",
          "name": "stdout",
          "text": [
            "Missing values after imputation:\n",
            "Series([], dtype: int64)\n"
          ]
        }
      ],
      "source": [
        "# Impute numerical columns with median\n",
        "numerical_cols = df.select_dtypes(include=[np.number]).columns.tolist()\n",
        "numerical_imputer = SimpleImputer(strategy='median')\n",
        "df[numerical_cols] = numerical_imputer.fit_transform(df[numerical_cols])\n",
        "\n",
        "# Impute categorical columns with mode\n",
        "categorical_cols = df.select_dtypes(include=['object']).columns.tolist()\n",
        "for col in categorical_cols:\n",
        "    if df[col].isnull().sum() > 0:\n",
        "        mode_val = df[col].mode()[0] if not df[col].mode().empty else 'Unknown'\n",
        "        df[col] = df[col].fillna(mode_val)\n",
        "\n",
        "print(\"Missing values after imputation:\")\n",
        "print(df.isnull().sum()[df.isnull().sum() > 0])"
      ]
    },
    {
      "cell_type": "markdown",
      "metadata": {
        "id": "G5D4OrvGIBa_"
      },
      "source": [
        "## 3. Date Processing"
      ]
    },
    {
      "cell_type": "code",
      "execution_count": 10,
      "metadata": {
        "id": "27253d01"
      },
      "outputs": [],
      "source": [
        "# Convert date columns to datetime\n",
        "date_columns = ['founded_at', 'closed_at', 'first_funding_at', 'last_funding_at',\n",
        "                'first_milestone_at', 'last_milestone_at']\n",
        "\n",
        "for col in date_columns:\n",
        "    if col in df.columns:\n",
        "        df[col] = pd.to_datetime(df[col], errors='coerce')\n",
        "\n",
        "# 2.b.i Replacing the values in closed_at column\n",
        "# Note: The markdown is slightly confusing here as 'closed_at' column was dropped earlier.\n",
        "# We'll work with what's available in the dataset\n",
        "if 'closed_at' in df.columns and 'status' in df.columns:\n",
        "    # Set closed_at to 2021 for operating/ipo companies\n",
        "    df.loc[df['status'].isin(['operating', 'ipo']), 'closed_at'] = pd.to_datetime('2021-01-01')\n",
        "\n",
        "    # Set closed_at to founded_at for acquired/closed companies (will result in 0 days)\n",
        "    mask = df['status'].isin(['acquired', 'closed'])\n",
        "    df.loc[mask, 'closed_at'] = df.loc[mask, 'founded_at']"
      ]
    },
    {
      "cell_type": "code",
      "execution_count": 11,
      "metadata": {
        "id": "f2d4054e",
        "colab": {
          "base_uri": "https://localhost:8080/"
        },
        "outputId": "96ffeb68-d7b0-4b33-b9fc-a09af673b98b"
      },
      "outputs": [
        {
          "output_type": "stream",
          "name": "stdout",
          "text": [
            "Contradictory records (negative active days): 0\n",
            "Shape after date processing: (63616, 19)\n"
          ]
        }
      ],
      "source": [
        "# 2.b.ii Calculate active days\n",
        "if 'founded_at' in df.columns and 'closed_at' in df.columns:\n",
        "    # Calculate active days\n",
        "    df['active_days'] = (df['closed_at'] - df['founded_at']).dt.days\n",
        "\n",
        "    # Check for contradictory issues (negative active days)\n",
        "    contradictions = df['active_days'] < 0\n",
        "    print(f\"Contradictory records (negative active days): {contradictions.sum()}\")\n",
        "\n",
        "    # Set negative active days to 0\n",
        "    df.loc[contradictions, 'active_days'] = 0\n",
        "\n",
        "    # 2.b.iii Delete the closed_at column\n",
        "    df = df.drop(columns=['closed_at'])\n",
        "\n",
        "    print(f\"Shape after date processing: {df.shape}\")"
      ]
    },
    {
      "cell_type": "markdown",
      "metadata": {
        "id": "G5D4OrvGIBbA"
      },
      "source": [
        "## 4. Feature Engineering"
      ]
    },
    {
      "cell_type": "code",
      "execution_count": 12,
      "metadata": {
        "id": "34b15552",
        "colab": {
          "base_uri": "https://localhost:8080/"
        },
        "outputId": "e65d803a-6eec-47bb-bb81-c8cc3f6c6284"
      },
      "outputs": [
        {
          "output_type": "stream",
          "name": "stdout",
          "text": [
            "Shape after feature engineering: (63616, 24)\n"
          ]
        }
      ],
      "source": [
        "# Create 'isClosed' target variable\n",
        "if 'status' in df.columns:\n",
        "    df['isClosed'] = df['status'].apply(lambda x: 1 if x in ['acquired', 'closed'] else 0)\n",
        "\n",
        "    # Create additional features\n",
        "    if 'funding_total_usd' in df.columns and 'funding_rounds' in df.columns:\n",
        "        # Funding efficiency\n",
        "        df['funding_per_round'] = df['funding_total_usd'] / (df['funding_rounds'] + 1)\n",
        "\n",
        "    if 'milestones' in df.columns and 'funding_rounds' in df.columns:\n",
        "        # Milestone efficiency\n",
        "        df['milestones_per_funding_round'] = df['milestones'] / (df['funding_rounds'] + 1)\n",
        "\n",
        "    if 'relationships' in df.columns and 'funding_rounds' in df.columns:\n",
        "        # Relationship intensity\n",
        "        df['relationships_per_funding_round'] = df['relationships'] / (df['funding_rounds'] + 1)\n",
        "\n",
        "    # Company age (assuming analysis in 2021)\n",
        "    if 'founded_at' in df.columns:\n",
        "        df['company_age'] = 2021 - df['founded_at'].dt.year\n",
        "\n",
        "    print(f\"Shape after feature engineering: {df.shape}\")"
      ]
    },
    {
      "cell_type": "code",
      "execution_count": 13,
      "metadata": {
        "id": "iiL49IwI2u0p",
        "colab": {
          "base_uri": "https://localhost:8080/"
        },
        "outputId": "0de5c10b-4f9f-4e08-f890-6fefbb40968d"
      },
      "outputs": [
        {
          "output_type": "stream",
          "name": "stdout",
          "text": [
            "Shape after encoding categorical variables: (63616, 43)\n"
          ]
        }
      ],
      "source": [
        "# Handle categorical variables\n",
        "# Category code - keep top 10, group rest as 'other'\n",
        "if 'category_code' in df.columns:\n",
        "    top_categories = df['category_code'].value_counts().head(10).index\n",
        "    df['category_code'] = df['category_code'].apply(\n",
        "        lambda x: x if x in top_categories else 'other'\n",
        "    )\n",
        "\n",
        "    # Create dummy variables\n",
        "    category_dummies = pd.get_dummies(df['category_code'], prefix='category')\n",
        "    df = pd.concat([df, category_dummies], axis=1)\n",
        "    df = df.drop(columns=['category_code'])\n",
        "\n",
        "# Country code - keep top 10, group rest as 'other'\n",
        "if 'country_code' in df.columns:\n",
        "    top_countries = df['country_code'].value_counts().head(10).index\n",
        "    df['country_code'] = df['country_code'].apply(\n",
        "        lambda x: x if x in top_countries else 'other'\n",
        "    )\n",
        "\n",
        "    # Create dummy variables\n",
        "    country_dummies = pd.get_dummies(df['country_code'], prefix='country')\n",
        "    df = pd.concat([df, country_dummies], axis=1)\n",
        "    df = df.drop(columns=['country_code'])\n",
        "\n",
        "print(f\"Shape after encoding categorical variables: {df.shape}\")"
      ]
    },
    {
      "cell_type": "markdown",
      "metadata": {
        "id": "G5D4OrvGIBbB"
      },
      "source": [
        "## 5. Advanced Feature Selection"
      ]
    },
    {
      "cell_type": "code",
      "execution_count": 14,
      "metadata": {
        "id": "b37ab7e6",
        "colab": {
          "base_uri": "https://localhost:8080/"
        },
        "outputId": "e99c1c8e-55df-4ff8-8005-716bc9af111d"
      },
      "outputs": [
        {
          "output_type": "stream",
          "name": "stdout",
          "text": [
            "Dropping highly correlated features (0.95 threshold): ['relationships_per_funding_round']\n",
            "Shape after removing correlated features: (63616, 42)\n"
          ]
        }
      ],
      "source": [
        "# Remove highly correlated features\n",
        "def remove_high_correlation_features(df, threshold=0.95):\n",
        "    \"\"\"Remove features with high correlation\"\"\"\n",
        "    # Calculate correlation matrix for numerical features only\n",
        "    numeric_df = df.select_dtypes(include=[np.number])\n",
        "    corr_matrix = numeric_df.corr().abs()\n",
        "\n",
        "    # Create a mask for the upper triangle\n",
        "    upper = corr_matrix.where(np.triu(np.ones(corr_matrix.shape), k=1).astype(bool))\n",
        "\n",
        "    # Find features with correlation above threshold\n",
        "    to_drop = [column for column in upper.columns if any(upper[column] > threshold)]\n",
        "\n",
        "    print(f\"Dropping highly correlated features ({threshold} threshold): {to_drop}\")\n",
        "    df_reduced = df.drop(columns=to_drop)\n",
        "    print(f\"Shape after removing correlated features: {df_reduced.shape}\")\n",
        "\n",
        "    return df_reduced\n",
        "\n",
        "# Apply correlation filter\n",
        "df = remove_high_correlation_features(df, threshold=0.95)"
      ]
    },
    {
      "cell_type": "code",
      "execution_count": 15,
      "metadata": {
        "id": "92bab4b5",
        "colab": {
          "base_uri": "https://localhost:8080/"
        },
        "outputId": "a26f6a1f-691b-4b79-f9bc-ce624cf6ab11"
      },
      "outputs": [
        {
          "output_type": "stream",
          "name": "stdout",
          "text": [
            "Dropping low variance features: []\n",
            "Shape after removing low variance features: (63616, 42)\n"
          ]
        }
      ],
      "source": [
        "# Remove low variance features\n",
        "def remove_low_variance_features(df, threshold=0.01):\n",
        "    \"\"\"Remove features with low variance\"\"\"\n",
        "    numeric_features = df.select_dtypes(include=[np.number])\n",
        "\n",
        "    # Fit the selector\n",
        "    selector = VarianceThreshold(threshold=threshold)\n",
        "    selector.fit(numeric_features)\n",
        "\n",
        "    # Get features to keep\n",
        "    features_to_keep = numeric_features.columns[selector.get_support()].tolist()\n",
        "    features_to_drop = [col for col in numeric_features.columns if col not in features_to_keep]\n",
        "\n",
        "    print(f\"Dropping low variance features: {features_to_drop}\")\n",
        "    df_reduced = df[features_to_keep + df.select_dtypes(exclude=[np.number]).columns.tolist()]\n",
        "    print(f\"Shape after removing low variance features: {df_reduced.shape}\")\n",
        "\n",
        "    return df_reduced\n",
        "\n",
        "# Apply variance filter\n",
        "df = remove_low_variance_features(df, threshold=0.01)"
      ]
    },
    {
      "cell_type": "code",
      "execution_count": 16,
      "metadata": {
        "id": "2435afeb",
        "colab": {
          "base_uri": "https://localhost:8080/"
        },
        "outputId": "c9f70080-a96c-47e0-ded5-8e2bd6d0f892"
      },
      "outputs": [
        {
          "output_type": "stream",
          "name": "stdout",
          "text": [
            "Numeric features shape: (63616, 11)\n"
          ]
        }
      ],
      "source": [
        "# Advanced Feature Selection using multiple methods\n",
        "# Separate features and target\n",
        "if 'isClosed' in df.columns:\n",
        "    X = df.drop('isClosed', axis=1)\n",
        "    y = df['isClosed']\n",
        "else:\n",
        "    # If isClosed was already dropped, we need to adjust\n",
        "    # This is just a fallback - normally isClosed should be in df\n",
        "    y = df.iloc[:, -1]  # Assuming last column is target\n",
        "    X = df.iloc[:, :-1]\n",
        "\n",
        "# Keep only numeric features for selection\n",
        "X_numeric = X.select_dtypes(include=[np.number])\n",
        "print(f\"Numeric features shape: {X_numeric.shape}\")"
      ]
    },
    {
      "cell_type": "code",
      "execution_count": 17,
      "metadata": {
        "id": "e2dfd3fb",
        "colab": {
          "base_uri": "https://localhost:8080/"
        },
        "outputId": "eb4b01ce-0f39-4571-d32a-92836a7154d4"
      },
      "outputs": [
        {
          "output_type": "stream",
          "name": "stdout",
          "text": [
            "Top 20 features by univariate selection: ['investment_rounds', 'funding_rounds', 'funding_total_usd', 'milestones', 'relationships', 'lat', 'lng', 'active_days', 'funding_per_round', 'milestones_per_funding_round', 'company_age']\n"
          ]
        }
      ],
      "source": [
        "# 1. Univariate Feature Selection\n",
        "selector_univariate = SelectKBest(score_func=f_classif, k=20)  # Select top 20 features\n",
        "X_selected_univariate = selector_univariate.fit_transform(X_numeric, y)\n",
        "selected_features_univariate = X_numeric.columns[selector_univariate.get_support()].tolist()\n",
        "\n",
        "print(f\"Top 20 features by univariate selection: {selected_features_univariate}\")"
      ]
    },
    {
      "cell_type": "code",
      "execution_count": 18,
      "metadata": {
        "id": "15bc4ce8",
        "colab": {
          "base_uri": "https://localhost:8080/"
        },
        "outputId": "30b90d51-d73c-4216-df6a-64bf1759ed7d"
      },
      "outputs": [
        {
          "output_type": "stream",
          "name": "stdout",
          "text": [
            "Top 15 features by RFE: ['investment_rounds', 'funding_rounds', 'funding_total_usd', 'milestones', 'relationships', 'lat', 'lng', 'active_days', 'funding_per_round', 'milestones_per_funding_round', 'company_age']\n"
          ]
        }
      ],
      "source": [
        "# 2. Recursive Feature Elimination (RFE)\n",
        "estimator = LogisticRegression(max_iter=1000, random_state=42)\n",
        "selector_rfe = RFE(estimator, n_features_to_select=15, step=1)\n",
        "X_selected_rfe = selector_rfe.fit_transform(X_numeric, y)\n",
        "selected_features_rfe = X_numeric.columns[selector_rfe.get_support()].tolist()\n",
        "\n",
        "print(f\"Top 15 features by RFE: {selected_features_rfe}\")"
      ]
    },
    {
      "cell_type": "code",
      "execution_count": 19,
      "metadata": {
        "id": "fa43a11d",
        "colab": {
          "base_uri": "https://localhost:8080/"
        },
        "outputId": "c68b6a78-4c89-4b64-e1b7-68123afa411a"
      },
      "outputs": [
        {
          "output_type": "stream",
          "name": "stdout",
          "text": [
            "Top 20 features by Random Forest importance: ['active_days', 'company_age', 'funding_total_usd', 'funding_per_round', 'milestones', 'lng', 'milestones_per_funding_round', 'relationships', 'lat', 'funding_rounds', 'investment_rounds']\n"
          ]
        }
      ],
      "source": [
        "# 3. Feature Importance from Random Forest\n",
        "rf = RandomForestClassifier(n_estimators=100, random_state=42)\n",
        "rf.fit(X_numeric, y)\n",
        "\n",
        "# Get feature importances\n",
        "feature_importance_df = pd.DataFrame({\n",
        "    'feature': X_numeric.columns,\n",
        "    'importance': rf.feature_importances_\n",
        "}).sort_values('importance', ascending=False)\n",
        "\n",
        "# Select top 20 features based on importance\n",
        "top_features_rf = feature_importance_df.head(20)['feature'].tolist()\n",
        "print(f\"Top 20 features by Random Forest importance: {top_features_rf}\")"
      ]
    },
    {
      "cell_type": "code",
      "execution_count": 20,
      "metadata": {
        "id": "b1693c84",
        "colab": {
          "base_uri": "https://localhost:8080/"
        },
        "outputId": "96ac855b-4b42-4c14-87b6-dadc2efc0cc3"
      },
      "outputs": [
        {
          "output_type": "stream",
          "name": "stdout",
          "text": [
            "Final selected features (selected by at least 2 methods): ['funding_total_usd', 'funding_per_round', 'funding_rounds', 'lng', 'investment_rounds', 'milestones', 'relationships', 'lat', 'milestones_per_funding_round', 'active_days', 'company_age']\n",
            "Final dataset shape: (63616, 11)\n"
          ]
        }
      ],
      "source": [
        "# 4. Combine feature selection results\n",
        "# We'll use features selected by at least 2 methods\n",
        "all_selected_features = set(selected_features_univariate + selected_features_rfe + top_features_rf)\n",
        "feature_votes = {}\n",
        "\n",
        "for feature in all_selected_features:\n",
        "    votes = 0\n",
        "    if feature in selected_features_univariate:\n",
        "        votes += 1\n",
        "    if feature in selected_features_rfe:\n",
        "        votes += 1\n",
        "    if feature in top_features_rf:\n",
        "        votes += 1\n",
        "    feature_votes[feature] = votes\n",
        "\n",
        "# Select features that were chosen by at least 2 methods\n",
        "final_selected_features = [feature for feature, votes in feature_votes.items() if votes >= 2]\n",
        "print(f\"Final selected features (selected by at least 2 methods): {final_selected_features}\")\n",
        "\n",
        "# Create final dataset with selected features\n",
        "X_final = X_numeric[final_selected_features]\n",
        "print(f\"Final dataset shape: {X_final.shape}\")"
      ]
    },
    {
      "cell_type": "markdown",
      "metadata": {
        "id": "G5D4OrvGIBbC"
      },
      "source": [
        "## 6. Data Preparation for Modeling"
      ]
    },
    {
      "cell_type": "code",
      "execution_count": 21,
      "metadata": {
        "id": "f7c84717",
        "colab": {
          "base_uri": "https://localhost:8080/"
        },
        "outputId": "c68af1d8-7e3e-4a3e-e334-03072e484d84"
      },
      "outputs": [
        {
          "output_type": "stream",
          "name": "stdout",
          "text": [
            "Preprocessing complete!\n",
            "Training set shape: (50892, 11)\n",
            "Test set shape: (12724, 11)\n"
          ]
        }
      ],
      "source": [
        "# Split the data\n",
        "X_train, X_test, y_train, y_test = train_test_split(\n",
        "    X_final, y, test_size=0.2, random_state=42, stratify=y\n",
        ")\n",
        "\n",
        "# Scale the features\n",
        "scaler = StandardScaler()\n",
        "X_train_scaled = scaler.fit_transform(X_train)\n",
        "X_test_scaled = scaler.transform(X_test)\n",
        "\n",
        "# Convert back to DataFrame for easier handling\n",
        "X_train_scaled = pd.DataFrame(X_train_scaled, columns=X_train.columns)\n",
        "X_test_scaled = pd.DataFrame(X_test_scaled, columns=X_test.columns)\n",
        "\n",
        "print(\"Preprocessing complete!\")\n",
        "print(f\"Training set shape: {X_train_scaled.shape}\")\n",
        "print(f\"Test set shape: {X_test_scaled.shape}\")"
      ]
    },
    {
      "cell_type": "markdown",
      "metadata": {
        "id": "G5D4OrvGIBbD"
      },
      "source": [
        "## 7. Model Training and Hyperparameter Tuning"
      ]
    },
    {
      "cell_type": "code",
      "execution_count": 22,
      "metadata": {
        "id": "eff123b9",
        "colab": {
          "base_uri": "https://localhost:8080/"
        },
        "outputId": "0bd3e505-7ae9-4ff5-ef7c-8d7b2423a751"
      },
      "outputs": [
        {
          "output_type": "stream",
          "name": "stdout",
          "text": [
            "Training SVM with hyperparameter tuning...\n",
            "Fitting 3 folds for each of 12 candidates, totalling 36 fits\n",
            "Best SVM parameters: {'C': 1, 'gamma': 'scale', 'kernel': 'linear'}\n",
            "Best SVM cross-validation score: 1.0000\n"
          ]
        }
      ],
      "source": [
        "# 7.1 Support Vector Machine (SVM)\n",
        "print(\"Training SVM with hyperparameter tuning...\")\n",
        "\n",
        "# Define parameter grid for SVM\n",
        "svm_param_grid = {\n",
        "    'C': [0.1, 1, 10],\n",
        "    'kernel': ['linear', 'rbf'],\n",
        "    'gamma': ['scale', 'auto']\n",
        "}\n",
        "\n",
        "# Create SVM classifier\n",
        "svm = SVC(random_state=42, probability=True)  # probability=True for ROC-AUC\n",
        "\n",
        "# Perform grid search with cross-validation\n",
        "svm_grid_search = GridSearchCV(\n",
        "    svm,\n",
        "    svm_param_grid,\n",
        "    cv=3,  # Reduced for faster execution\n",
        "    scoring='accuracy',\n",
        "    n_jobs=-1,\n",
        "    verbose=1\n",
        ")\n",
        "\n",
        "# Fit the grid search\n",
        "svm_grid_search.fit(X_train_scaled, y_train)\n",
        "\n",
        "# Best parameters and score\n",
        "print(f\"Best SVM parameters: {svm_grid_search.best_params_}\")\n",
        "print(f\"Best SVM cross-validation score: {svm_grid_search.best_score_:.4f}\")\n",
        "\n",
        "# Get the best model\n",
        "best_svm = svm_grid_search.best_estimator_"
      ]
    },
    {
      "cell_type": "code",
      "execution_count": 23,
      "metadata": {
        "id": "52e2c90e",
        "colab": {
          "base_uri": "https://localhost:8080/"
        },
        "outputId": "76a23167-7865-4dbf-fd0e-76855253da38"
      },
      "outputs": [
        {
          "output_type": "stream",
          "name": "stdout",
          "text": [
            "Training Decision Tree with hyperparameter tuning...\n",
            "Fitting 3 folds for each of 72 candidates, totalling 216 fits\n",
            "Best Decision Tree parameters: {'criterion': 'gini', 'max_depth': 3, 'min_samples_leaf': 1, 'min_samples_split': 2}\n",
            "Best Decision Tree cross-validation score: 1.0000\n"
          ]
        }
      ],
      "source": [
        "# 7.2 Decision Tree\n",
        "print(\"Training Decision Tree with hyperparameter tuning...\")\n",
        "\n",
        "# Define parameter grid for Decision Tree\n",
        "dt_param_grid = {\n",
        "    'max_depth': [3, 5, 10, None],\n",
        "    'min_samples_split': [2, 5, 10],\n",
        "    'min_samples_leaf': [1, 2, 4],\n",
        "    'criterion': ['gini', 'entropy']\n",
        "}\n",
        "\n",
        "# Create Decision Tree classifier\n",
        "dt = DecisionTreeClassifier(random_state=42)\n",
        "\n",
        "# Perform grid search with cross-validation\n",
        "dt_grid_search = GridSearchCV(\n",
        "    dt,\n",
        "    dt_param_grid,\n",
        "    cv=3,  # Reduced for faster execution\n",
        "    scoring='accuracy',\n",
        "    n_jobs=-1,\n",
        "    verbose=1\n",
        ")\n",
        "\n",
        "# Fit the grid search\n",
        "dt_grid_search.fit(X_train, y_train)  # Note: Decision Tree doesn't require scaling\n",
        "\n",
        "# Best parameters and score\n",
        "print(f\"Best Decision Tree parameters: {dt_grid_search.best_params_}\")\n",
        "print(f\"Best Decision Tree cross-validation score: {dt_grid_search.best_score_:.4f}\")\n",
        "\n",
        "# Get the best model\n",
        "best_dt = dt_grid_search.best_estimator_"
      ]
    },
    {
      "cell_type": "markdown",
      "metadata": {
        "id": "G5D4OrvGIBbE"
      },
      "source": [
        "## 8. Model Evaluation"
      ]
    },
    {
      "cell_type": "code",
      "execution_count": 24,
      "metadata": {
        "id": "b8e058a3",
        "colab": {
          "base_uri": "https://localhost:8080/"
        },
        "outputId": "c776214f-6eab-44bf-a6c0-be0559405e23"
      },
      "outputs": [
        {
          "output_type": "stream",
          "name": "stdout",
          "text": [
            "SVM Model Performance:\n",
            "Accuracy: 1.0000\n",
            "ROC-AUC Score: 1.0000\n",
            "\n",
            "Classification Report:\n",
            "              precision    recall  f1-score   support\n",
            "\n",
            "           0       1.00      1.00      1.00     11619\n",
            "           1       1.00      1.00      1.00      1105\n",
            "\n",
            "    accuracy                           1.00     12724\n",
            "   macro avg       1.00      1.00      1.00     12724\n",
            "weighted avg       1.00      1.00      1.00     12724\n",
            "\n"
          ]
        }
      ],
      "source": [
        "# 8.1 SVM Evaluation\n",
        "# Make predictions with SVM\n",
        "svm_y_pred = best_svm.predict(X_test_scaled)\n",
        "svm_y_pred_proba = best_svm.predict_proba(X_test_scaled)[:, 1]  # For ROC-AUC\n",
        "\n",
        "# Calculate metrics for SVM\n",
        "svm_accuracy = accuracy_score(y_test, svm_y_pred)\n",
        "svm_roc_auc = roc_auc_score(y_test, svm_y_pred_proba)\n",
        "\n",
        "print(\"SVM Model Performance:\")\n",
        "print(f\"Accuracy: {svm_accuracy:.4f}\")\n",
        "print(f\"ROC-AUC Score: {svm_roc_auc:.4f}\")\n",
        "print(\"\\nClassification Report:\")\n",
        "print(classification_report(y_test, svm_y_pred))"
      ]
    },
    {
      "cell_type": "code",
      "execution_count": 25,
      "metadata": {
        "id": "82200e57",
        "colab": {
          "base_uri": "https://localhost:8080/"
        },
        "outputId": "57ce0ce5-543c-4a5c-ba6b-8ab4e856e0b1"
      },
      "outputs": [
        {
          "output_type": "stream",
          "name": "stdout",
          "text": [
            "Decision Tree Model Performance:\n",
            "Accuracy: 1.0000\n",
            "ROC-AUC Score: 1.0000\n",
            "\n",
            "Classification Report:\n",
            "              precision    recall  f1-score   support\n",
            "\n",
            "           0       1.00      1.00      1.00     11619\n",
            "           1       1.00      1.00      1.00      1105\n",
            "\n",
            "    accuracy                           1.00     12724\n",
            "   macro avg       1.00      1.00      1.00     12724\n",
            "weighted avg       1.00      1.00      1.00     12724\n",
            "\n"
          ]
        }
      ],
      "source": [
        "# 8.2 Decision Tree Evaluation\n",
        "# Make predictions with Decision Tree\n",
        "dt_y_pred = best_dt.predict(X_test)\n",
        "dt_y_pred_proba = best_dt.predict_proba(X_test)[:, 1]  # For ROC-AUC\n",
        "\n",
        "# Calculate metrics for Decision Tree\n",
        "dt_accuracy = accuracy_score(y_test, dt_y_pred)\n",
        "dt_roc_auc = roc_auc_score(y_test, dt_y_pred_proba)\n",
        "\n",
        "print(\"Decision Tree Model Performance:\")\n",
        "print(f\"Accuracy: {dt_accuracy:.4f}\")\n",
        "print(f\"ROC-AUC Score: {dt_roc_auc:.4f}\")\n",
        "print(\"\\nClassification Report:\")\n",
        "print(classification_report(y_test, dt_y_pred))"
      ]
    },
    {
      "cell_type": "code",
      "execution_count": 26,
      "metadata": {
        "colab": {
          "base_uri": "https://localhost:8080/",
          "height": 501
        },
        "id": "-XFdtmCxoMwE",
        "outputId": "636816dc-6b34-456f-d0f3-db381fc21396"
      },
      "outputs": [
        {
          "output_type": "display_data",
          "data": {
            "text/plain": [
              "<Figure size 1200x500 with 4 Axes>"
            ],
            "image/png": "[encoded data removed]"
          },
          "metadata": {}
        }
      ],
      "source": [
        "# 8.3 Visualization\n",
        "# Confusion Matrix for SVM\n",
        "plt.figure(figsize=(12, 5))\n",
        "\n",
        "plt.subplot(1, 2, 1)\n",
        "sns.heatmap(confusion_matrix(y_test, svm_y_pred), annot=True, fmt='d', cmap='Blues')\n",
        "plt.title('SVM Confusion Matrix')\n",
        "plt.xlabel('Predicted')\n",
        "plt.ylabel('Actual')\n",
        "\n",
        "# Confusion Matrix for Decision Tree\n",
        "plt.subplot(1, 2, 2)\n",
        "sns.heatmap(confusion_matrix(y_test, dt_y_pred), annot=True, fmt='d', cmap='Blues')\n",
        "plt.title('Decision Tree Confusion Matrix')\n",
        "plt.xlabel('Predicted')\n",
        "plt.ylabel('Actual')\n",
        "\n",
        "plt.tight_layout()\n",
        "plt.show()"
      ]
    },
    {
      "cell_type": "code",
      "execution_count": 27,
      "metadata": {
        "colab": {
          "base_uri": "https://localhost:8080/",
          "height": 573
        },
        "id": "HqVb8S-koMwE",
        "outputId": "328996a4-f575-435f-f53e-9676f3412b3d"
      },
      "outputs": [
        {
          "output_type": "display_data",
          "data": {
            "text/plain": [
              "<Figure size 800x600 with 1 Axes>"
            ],
            "image/png": "[encoded data removed]"
          },
          "metadata": {}
        }
      ],
      "source": [
        "# ROC Curve Comparison\n",
        "plt.figure(figsize=(8, 6))\n",
        "\n",
        "# SVM ROC curve\n",
        "svm_fpr, svm_tpr, _ = roc_curve(y_test, svm_y_pred_proba)\n",
        "plt.plot(svm_fpr, svm_tpr, label=f'SVM (AUC = {svm_roc_auc:.4f})')\n",
        "\n",
        "# Decision Tree ROC curve\n",
        "dt_fpr, dt_tpr, _ = roc_curve(y_test, dt_y_pred_proba)\n",
        "plt.plot(dt_fpr, dt_tpr, label=f'Decision Tree (AUC = {dt_roc_auc:.4f})')\n",
        "\n",
        "# Random classifier line\n",
        "plt.plot([0, 1], [0, 1], 'k--', label='Random Classifier')\n",
        "\n",
        "plt.xlabel('False Positive Rate')\n",
        "plt.ylabel('True Positive Rate')\n",
        "plt.title('ROC Curves Comparison')\n",
        "plt.legend()\n",
        "plt.grid(True)\n",
        "plt.show()"
      ]
    },
    {
      "cell_type": "code",
      "execution_count": 28,
      "metadata": {
        "colab": {
          "base_uri": "https://localhost:8080/",
          "height": 781
        },
        "id": "UOyRw0pDoMwE",
        "outputId": "ab2ec444-fe74-46d9-839e-bae9e56286cc"
      },
      "outputs": [
        {
          "output_type": "display_data",
          "data": {
            "text/plain": [
              "<Figure size 1000x600 with 1 Axes>"
            ],
            "image/png": "[encoded data removed]"
          },
          "metadata": {}
        },
        {
          "output_type": "stream",
          "name": "stdout",
          "text": [
            "Top 10 Most Important Features:\n",
            "                        feature  importance\n",
            "9                   active_days         1.0\n",
            "1             funding_per_round         0.0\n",
            "0             funding_total_usd         0.0\n",
            "2                funding_rounds         0.0\n",
            "3                           lng         0.0\n",
            "5                    milestones         0.0\n",
            "4             investment_rounds         0.0\n",
            "6                 relationships         0.0\n",
            "7                           lat         0.0\n",
            "8  milestones_per_funding_round         0.0\n"
          ]
        }
      ],
      "source": [
        "# Feature Importance (Decision Tree)\n",
        "feature_importance = pd.DataFrame({\n",
        "    'feature': X_train.columns,\n",
        "    'importance': best_dt.feature_importances_\n",
        "}).sort_values('importance', ascending=False)\n",
        "\n",
        "# Plot top 10 most important features\n",
        "plt.figure(figsize=(10, 6))\n",
        "top_features = feature_importance.head(10)\n",
        "sns.barplot(data=top_features, x='importance', y='feature')\n",
        "plt.title('Top 10 Feature Importances (Decision Tree)')\n",
        "plt.xlabel('Importance')\n",
        "plt.show()\n",
        "\n",
        "print(\"Top 10 Most Important Features:\")\n",
        "print(feature_importance.head(10))"
      ]
    },
    {
      "cell_type": "markdown",
      "metadata": {
        "id": "G5D4OrvGIBbF"
      },
      "source": [
        "## 9. Model Comparison Summary"
      ]
    },
    {
      "cell_type": "code",
      "execution_count": 29,
      "metadata": {
        "colab": {
          "base_uri": "https://localhost:8080/"
        },
        "id": "bZswPm1VoMwE",
        "outputId": "dfc60601-6b89-497a-8b91-ac81008af094"
      },
      "outputs": [
        {
          "output_type": "stream",
          "name": "stdout",
          "text": [
            "Cross-Validation Scores:\n",
            "SVM: 1.0000 (+/- 0.0000)\n",
            "Decision Tree: 1.0000 (+/- 0.0000)\n"
          ]
        }
      ],
      "source": [
        "# Cross-Validation Scores\n",
        "svm_cv_scores = cross_val_score(best_svm, X_train_scaled, y_train, cv=3, scoring='accuracy')\n",
        "dt_cv_scores = cross_val_score(best_dt, X_train, y_train, cv=3, scoring='accuracy')\n",
        "\n",
        "print(\"Cross-Validation Scores:\")\n",
        "print(f\"SVM: {svm_cv_scores.mean():.4f} (+/- {svm_cv_scores.std() * 2:.4f})\")\n",
        "print(f\"Decision Tree: {dt_cv_scores.mean():.4f} (+/- {dt_cv_scores.std() * 2:.4f})\")"
      ]
    },
    {
      "cell_type": "code",
      "execution_count": 30,
      "metadata": {
        "colab": {
          "base_uri": "https://localhost:8080/",
          "height": 670
        },
        "id": "6vQSuBo2oMwF",
        "outputId": "6b09536e-1b7e-45ec-a319-3f8e6ae2d82b"
      },
      "outputs": [
        {
          "output_type": "stream",
          "name": "stdout",
          "text": [
            "Model Comparison:\n",
            "           Model  Accuracy  ROC-AUC  CV Accuracy Mean  CV Accuracy Std\n",
            "0            SVM       1.0      1.0               1.0              0.0\n",
            "1  Decision Tree       1.0      1.0               1.0              0.0\n"
          ]
        },
        {
          "output_type": "display_data",
          "data": {
            "text/plain": [
              "<Figure size 1500x600 with 2 Axes>"
            ],
            "image/png": "[encoded data removed]"
          },
          "metadata": {}
        }
      ],
      "source": [
        "# Create a comparison DataFrame\n",
        "comparison_df = pd.DataFrame({\n",
        "    'Model': ['SVM', 'Decision Tree'],\n",
        "    'Accuracy': [svm_accuracy, dt_accuracy],\n",
        "    'ROC-AUC': [svm_roc_auc, dt_roc_auc],\n",
        "    'CV Accuracy Mean': [svm_cv_scores.mean(), dt_cv_scores.mean()],\n",
        "    'CV Accuracy Std': [svm_cv_scores.std(), dt_cv_scores.std()]\n",
        "})\n",
        "\n",
        "print(\"Model Comparison:\")\n",
        "print(comparison_df)\n",
        "\n",
        "# Plot comparison\n",
        "fig, ax = plt.subplots(1, 2, figsize=(15, 6))\n",
        "\n",
        "# Accuracy comparison\n",
        "comparison_df.plot(x='Model', y=['Accuracy', 'CV Accuracy Mean'], kind='bar', ax=ax[0])\n",
        "ax[0].set_title('Accuracy Comparison')\n",
        "ax[0].set_ylabel('Accuracy')\n",
        "ax[0].legend(['Test Accuracy', 'CV Mean Accuracy'])\n",
        "\n",
        "# ROC-AUC comparison\n",
        "comparison_df.plot(x='Model', y='ROC-AUC', kind='bar', ax=ax[1], color='orange')\n",
        "ax[1].set_title('ROC-AUC Comparison')\n",
        "ax[1].set_ylabel('ROC-AUC Score')\n",
        "\n",
        "plt.tight_layout()\n",
        "plt.show()"
      ]
    },
    {
      "cell_type": "code",
      "execution_count": 31,
      "metadata": {
        "colab": {
          "base_uri": "https://localhost:8080/"
        },
        "id": "ThJtcJcfoMwF",
        "outputId": "5e2fbb07-62b6-4aba-d32f-8a8f16c395a0"
      },
      "outputs": [
        {
          "output_type": "stream",
          "name": "stdout",
          "text": [
            "Best Model: Decision Tree\n",
            "Best Accuracy: 1.0000\n",
            "\n",
            "Key Findings:\n",
            "1. Data preprocessing included handling missing values, creating new features, and encoding categorical variables\n",
            "2. Feature selection was performed using multiple methods to identify the most relevant features\n",
            "3. Both SVM and Decision Tree models were tuned using grid search with cross-validation\n",
            "4. Performance was evaluated using accuracy, ROC-AUC, and confusion matrices\n",
            "5. Feature importance analysis was performed for the Decision Tree model\n"
          ]
        }
      ],
      "source": [
        "# Determine the best model\n",
        "if svm_accuracy > dt_accuracy:\n",
        "    best_model_name = \"SVM\"\n",
        "    best_model = best_svm\n",
        "    best_model_accuracy = svm_accuracy\n",
        "else:\n",
        "    best_model_name = \"Decision Tree\"\n",
        "    best_model = best_dt\n",
        "    best_model_accuracy = dt_accuracy\n",
        "\n",
        "print(f\"Best Model: {best_model_name}\")\n",
        "print(f\"Best Accuracy: {best_model_accuracy:.4f}\")\n",
        "\n",
        "print(\"\\nKey Findings:\")\n",
        "print(\"1. Data preprocessing included handling missing values, creating new features, and encoding categorical variables\")\n",
        "print(\"2. Feature selection was performed using multiple methods to identify the most relevant features\")\n",
        "print(\"3. Both SVM and Decision Tree models were tuned using grid search with cross-validation\")\n",
        "print(\"4. Performance was evaluated using accuracy, ROC-AUC, and confusion matrices\")\n",
        "print(\"5. Feature importance analysis was performed for the Decision Tree model\")"
      ]
    },
    {
      "cell_type": "code",
      "execution_count": 33,
      "metadata": {
        "colab": {
          "base_uri": "https://localhost:8080/"
        },
        "id": "X80EmdDZoMwF",
        "outputId": "976685a3-3c5f-4e99-9260-0df11c245528"
      },
      "outputs": [
        {
          "output_type": "stream",
          "name": "stdout",
          "text": [
            "Best model and scaler saved successfully!\n"
          ]
        }
      ],
      "source": [
        "# Save the best model (optional)\n",
        "import joblib\n",
        "joblib.dump(best_model, '/content/drive/My Drive/best_startup_model.pkl')\n",
        "joblib.dump(scaler, '/content/drive/My Drive/feature_scaler.pkl')\n",
        "print(\"Best model and scaler saved successfully!\")"
      ]
    }
  ],
  "metadata": {
    "colab": {
      "provenance": []
    },
    "kernelspec": {
      "display_name": "Python 3",
      "language": "python",
      "name": "python3"
    },
    "language_info": {
      "codemirror_mode": {
        "name": "ipython",
        "version": 3
      },
      "file_extension": ".py",
      "mimetype": "text/x-python",
      "name": "python",
      "nbconvert_exporter": "python",
      "pygments_lexer": "ipython3",
      "version": "3.8.5"
    }
  },
  "nbformat": 4,
  "nbformat_minor": 0
}